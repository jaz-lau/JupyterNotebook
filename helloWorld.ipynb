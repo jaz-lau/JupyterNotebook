{
 "cells": [
  {
   "cell_type": "markdown",
   "metadata": {},
   "source": [
    "# Getting stared\n",
    "## Notebook initialisation\n",
    "* Check MSTICPy package installed and latest version published\n",
    "* Import all relevant packages\n",
    "* Check configuration"
   ]
  },
  {
   "cell_type": "code",
   "execution_count": null,
   "metadata": {},
   "outputs": [],
   "source": [
    "# pip install msticpy\n",
    "# pip install msticnb\n",
    "\n",
    "# Core MSTICPy initialisation for Notebooks\n",
    "\n",
    "from msticpy.nbtools import nbinit\n",
    "nbinit.init_notebook(namespace=globals())"
   ]
  },
  {
   "cell_type": "markdown",
   "metadata": {},
   "source": [
    "## Query Provider initialisation\n",
    "The code below is to initialise the query provider for Azure Sentinel"
   ]
  },
  {
   "cell_type": "code",
   "execution_count": null,
   "metadata": {},
   "outputs": [],
   "source": [
    "from msticpy.data import QueryProvider\n",
    "import pandas as pd\n",
    "\n",
    "# Load query providers for Azure Sentinel\n",
    "qry_prov_az = QueryProvider(\"AzureSentinel\")"
   ]
  },
  {
   "cell_type": "markdown",
   "metadata": {},
   "source": [
    "# Authentication\n",
    "Connect the query provider to the targeted Workspace, the connection details are stored inside the msticpyconfig.yaml file"
   ]
  },
  {
   "cell_type": "code",
   "execution_count": null,
   "metadata": {},
   "outputs": [],
   "source": [
    "# Get the Azure Sentinel workspace details from msticpyconfig\n",
    "# Loading WorkspaceConfig with no parameters will use the details\n",
    "# of your \"Default\" workspace (see the Configuring Azure Sentinel settings section earlier)\n",
    "# If you want to connect to a specific workspace use this syntax:\n",
    "#    ws_config = WorkspaceConfig(workspace=\"WorkspaceName\")\n",
    "# ('WorkspaceName' should be one of the workspaces defined in msticpyconfig.yaml)\n",
    "ws_config = WorkspaceConfig()\n",
    " \n",
    "# Connect to Azure Sentinel with our QueryProvider and config details\n",
    "qry_prov_az.connect(ws_config)"
   ]
  },
  {
   "cell_type": "markdown",
   "metadata": {},
   "source": [
    "To see all Workspaces configured in the msticpyconfig.yaml file loaded"
   ]
  },
  {
   "cell_type": "code",
   "execution_count": null,
   "metadata": {},
   "outputs": [],
   "source": [
    "WorkspaceConfig.list_workspaces()"
   ]
  },
  {
   "cell_type": "markdown",
   "metadata": {},
   "source": [
    "## Time parameters\n",
    "nbwidgets.QueryTime is a class that allows user to filter the result set for the query parameters"
   ]
  },
  {
   "cell_type": "code",
   "execution_count": null,
   "metadata": {},
   "outputs": [],
   "source": [
    "timerange = nbwidgets.QueryTime()\n",
    "timerange"
   ]
  },
  {
   "cell_type": "markdown",
   "metadata": {},
   "source": [
    "# Executing queries\n",
    "## Built-in queries\n",
    "Browse queries"
   ]
  },
  {
   "cell_type": "code",
   "execution_count": null,
   "metadata": {},
   "outputs": [],
   "source": [
    "qry_prov_az.browse_queries()"
   ]
  },
  {
   "cell_type": "markdown",
   "metadata": {},
   "source": [
    "Execute queries <br>\n",
    "P.S. There are some built-in querties are built-in in the MSTICPy package, most of them require supplying parameters. In case, they are missing, the query cannot be executed and all required parameters are shown in the error message "
   ]
  },
  {
   "cell_type": "code",
   "execution_count": null,
   "metadata": {},
   "outputs": [],
   "source": [
    "qry_prov_az.WindowsSecurity.list_host_processes(timerange, host_name=\"*\")"
   ]
  },
  {
   "cell_type": "markdown",
   "metadata": {},
   "source": [
    "Extend built-in queries"
   ]
  },
  {
   "cell_type": "code",
   "execution_count": null,
   "metadata": {},
   "outputs": [],
   "source": [
    "qry_prov_az.WindowsSecurity.list_host_processes(\n",
    "    timerange,\n",
    "    host_name=\"*\",\n",
    "    add_query_items=\"| where NewProcessName contains 'PowerShell'\"\n",
    ")"
   ]
  },
  {
   "cell_type": "markdown",
   "metadata": {},
   "source": [
    "## Custom queries\n",
    "Pass through native queries"
   ]
  },
  {
   "cell_type": "code",
   "execution_count": null,
   "metadata": {},
   "outputs": [],
   "source": [
    "result = qry_prov_az.exec_query(\"prerecorded_CL | take 1000 | where TimeGenerated >= datetime('2021-09-01') | extend Event = tostring(parse_json(Message).EventID) | summarize NumberOfEvent = count(Event) by tostring(parse_json(Message).EventType)\")\n",
    "result.head(5)"
   ]
  },
  {
   "cell_type": "markdown",
   "metadata": {},
   "source": [
    "# Define a query function\n",
    "## Define a YAML file\n",
    "YAML file template"
   ]
  },
  {
   "cell_type": "raw",
   "metadata": {},
   "source": [
    "metadata:\n",
    "  version: 1\n",
    "  description: Query template                 # Name of the file - just for reference\n",
    "  data_environments: [DataProvider]           # Name of the data provider, e.g. AzureSentinel, Splunk\n",
    "  data_families: [DataCategory]               # This is used tp group the queries\n",
    "  tags: ['event', 'security']                 # not yet used but may be in the future\n",
    "defaults:\n",
    "  metadata:\n",
    "  parameters:\n",
    "sources:\n",
    "  query_name: Name                            # Query definition\n",
    "  args:\n",
    "    # Query text (with optional params)\n",
    "    query: '\n",
    "      select something from table where host == \"{param1}\"\n",
    "    '\n",
    "  parameters:\n",
    "    # query parameter definitions (inherits from 'defaults' section)\n",
    "    param1:\n",
    "      description: first parameter\n",
    "      type: type            # str, int, datetime, list\n",
    "      # default:            # if there is a default vault"
   ]
  },
  {
   "cell_type": "markdown",
   "metadata": {},
   "source": [
    "YAML file example"
   ]
  },
  {
   "cell_type": "code",
   "execution_count": null,
   "metadata": {},
   "outputs": [],
   "source": [
    "query_def = \"\"\"\n",
    "metadata:\n",
    "    version: 1\n",
    "    description: Security event queries\n",
    "    data_environments: [AzureSentinel]\n",
    "    data_families: [CustomQueries]\n",
    "    tags: ['windows', 'event', 'security']\n",
    "defaults:\n",
    "    metadata: \n",
    "    parameters:\n",
    "sources: \n",
    "    list_events_by_id:\n",
    "        description: Retrieves list of events on a host\n",
    "        args:\n",
    "            query: '\n",
    "                {table}\n",
    "                | where EventID in ({event_list})\n",
    "                | where TimeGenerated >= datetime({start})\n",
    "                | where TimeGenerated <= datetime({end})\n",
    "                {add_query_items}\n",
    "            '\n",
    "        parameters:\n",
    "            table: (optional)\n",
    "                description: The name of the source table\n",
    "                type: str\n",
    "                default: SecurityEvent\n",
    "            start: (optional)\n",
    "                description: start of the query\n",
    "                type: datetime\n",
    "                default: -1\n",
    "            end: (optional)\n",
    "                description: end of the query\n",
    "                type: datetime\n",
    "                default: 0\n",
    "            event_list: (mandatory)\n",
    "                description: List of event IDs to match\n",
    "                type: list\n",
    "            add_query_items: (optional)\n",
    "                description: Additional query clauses (precede with \"|\")\n",
    "                type: str\n",
    "                default: \"\"\n",
    "\"\"\""
   ]
  },
  {
   "cell_type": "markdown",
   "metadata": {},
   "source": [
    "## Query creation process\n",
    "* Take a query from your query interface\n",
    "* Parameterise the query\n",
    "* Move any reusuable parameters to default section"
   ]
  },
  {
   "cell_type": "code",
   "execution_count": null,
   "metadata": {},
   "outputs": [],
   "source": [
    "from pathlib import Path\n",
    "if not Path(\"./queries\").is_dir():\n",
    "    Path(\"./queries\").mkdir()\n",
    "\n",
    "# Write out the yaml file\n",
    "qry_file = Path(\"./queries\").joinpath(\"az_sent_eventqueries.yaml\")\n",
    "qry_file.write_text(query_def)\n",
    "\n",
    "# Check that the definition is readable and looks OK\n",
    "from msticpy.data.data_query_reader import read_query_def_file\n",
    "read_query_def_file(qry_file)"
   ]
  },
  {
   "cell_type": "markdown",
   "metadata": {},
   "source": [
    "## Check the query"
   ]
  },
  {
   "cell_type": "code",
   "execution_count": null,
   "metadata": {},
   "outputs": [],
   "source": [
    "from msticpy.data import QueryProvider\n",
    "qry_prov_az = QueryProvider(\"AzureSentinel\", query_paths=[\"./queries\"])\n"
   ]
  }
 ],
 "metadata": {
  "interpreter": {
   "hash": "31f2aee4e71d21fbe5cf8b01ff0e069b9275f58929596ceb00d14d90e3e16cd6"
  },
  "kernelspec": {
   "display_name": "Python 3.8.2 64-bit",
   "name": "python3"
  },
  "language_info": {
   "codemirror_mode": {
    "name": "ipython",
    "version": 3
   },
   "file_extension": ".py",
   "mimetype": "text/x-python",
   "name": "python",
   "nbconvert_exporter": "python",
   "pygments_lexer": "ipython3",
   "version": "3.8.2"
  },
  "orig_nbformat": 4
 },
 "nbformat": 4,
 "nbformat_minor": 2
}
